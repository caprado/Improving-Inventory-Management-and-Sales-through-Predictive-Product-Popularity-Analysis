{
  "metadata": {
    "language_info": {
      "codemirror_mode": {
        "name": "python",
        "version": 3
      },
      "file_extension": ".py",
      "mimetype": "text/x-python",
      "name": "python",
      "nbconvert_exporter": "python",
      "pygments_lexer": "ipython3",
      "version": "3.8"
    },
    "kernelspec": {
      "name": "python",
      "display_name": "Python (Pyodide)",
      "language": "python"
    }
  },
  "nbformat_minor": 4,
  "nbformat": 4,
  "cells": [
    {
      "cell_type": "code",
      "source": "import pandas as pd\nfrom surprise import Dataset, Reader, SVD\nfrom surprise.model_selection import train_test_split\nimport matplotlib.pyplot as plt\n\nsales_data = pd.read_csv('sales_data.csv')\n\nproduct_sales = sales_data.groupby('Product')['Quantity Ordered'].sum().reset_index()\n\n# Set up the data for Surprise\nreader = Reader(rating_scale=(1, 5))\ndata = Dataset.load_from_df(sales_data[['Product', 'Order ID', 'Quantity Ordered']], reader)\n\n# Split the data into training and test sets\ntrainset, testset = train_test_split(data, test_size=0.2, random_state=42)\n\n# Train the model using Singular Value Decomposition (SVD)\nmodel = SVD()\nmodel.fit(trainset)\n\nproduct_popularity = pd.DataFrame({'Product': sales_data['Product'].unique()})\nproduct_popularity['Popularity'] = product_popularity['Product'].apply(lambda x: model.predict(x, 1).est)\n\n# Sort the products by popularity\ntop_products = product_popularity.sort_values('Popularity', ascending=False).head(10)\n\n# Create a bar chart of the top products\nplt.bar(top_products['Product'], top_products['Popularity'])\nplt.xticks(rotation=90)\nplt.xlabel('Product')\nplt.ylabel('Popularity')\nplt.title('Top 10 Products by Popularity')\nplt.show()\n\n# Create a pie chart of the product popularity distribution\nproduct_popularity['Popularity'].plot(kind='pie', autopct='%1.1f%%')\nplt.legend(product_popularity['Product'], loc='best')\nplt.axis('equal')\nplt.title('Product Popularity Distribution')\nplt.show()\n\nprint(top_products.to_string(index=False))",
      "metadata": {
        "tags": [],
        "trusted": true
      },
      "execution_count": 2,
      "outputs": [
        {
          "ename": "<class 'ModuleNotFoundError'>",
          "evalue": "No module named 'surprise'",
          "traceback": [
            "\u001b[0;31m---------------------------------------------------------------------------\u001b[0m",
            "\u001b[0;31mModuleNotFoundError\u001b[0m                       Traceback (most recent call last)",
            "Cell \u001b[0;32mIn[2], line 2\u001b[0m\n\u001b[1;32m      1\u001b[0m \u001b[38;5;28;01mimport\u001b[39;00m \u001b[38;5;21;01mpandas\u001b[39;00m \u001b[38;5;28;01mas\u001b[39;00m \u001b[38;5;21;01mpd\u001b[39;00m\n\u001b[0;32m----> 2\u001b[0m \u001b[38;5;28;01mfrom\u001b[39;00m \u001b[38;5;21;01msurprise\u001b[39;00m \u001b[38;5;28;01mimport\u001b[39;00m Dataset, Reader, SVD\n\u001b[1;32m      3\u001b[0m \u001b[38;5;28;01mfrom\u001b[39;00m \u001b[38;5;21;01msurprise\u001b[39;00m\u001b[38;5;21;01m.\u001b[39;00m\u001b[38;5;21;01mmodel_selection\u001b[39;00m \u001b[38;5;28;01mimport\u001b[39;00m train_test_split\n\u001b[1;32m      4\u001b[0m \u001b[38;5;28;01mimport\u001b[39;00m \u001b[38;5;21;01mmatplotlib\u001b[39;00m\u001b[38;5;21;01m.\u001b[39;00m\u001b[38;5;21;01mpyplot\u001b[39;00m \u001b[38;5;28;01mas\u001b[39;00m \u001b[38;5;21;01mplt\u001b[39;00m\n",
            "\u001b[0;31mModuleNotFoundError\u001b[0m: No module named 'surprise'"
          ],
          "output_type": "error"
        }
      ]
    },
    {
      "cell_type": "code",
      "source": "",
      "metadata": {
        "trusted": true
      },
      "execution_count": null,
      "outputs": []
    }
  ]
}